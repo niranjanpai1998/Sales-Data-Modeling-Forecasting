{
 "cells": [
  {
   "cell_type": "code",
   "execution_count": 3,
   "id": "054454f4-9c3d-4fcc-834b-4dcb3304b05c",
   "metadata": {},
   "outputs": [],
   "source": [
    "from pyspark.sql.types import DoubleType, FloatType, LongType, StructType,StructField, StringType\n",
    "schema = StructType([\n",
    "  StructField(\"vendor_id\", LongType(), True),\n",
    "  StructField(\"trip_id\", LongType(), True),\n",
    "  StructField(\"trip_distance\", FloatType(), True),\n",
    "  StructField(\"fare_amount\", DoubleType(), True),\n",
    "  StructField(\"store_and_fwd_flag\", StringType(), True)\n",
    "])\n",
    "\n",
    "df = spark.createDataFrame([], schema)\n",
    "df.writeTo(\"demo.nyc.taxis\").createOrReplace()"
   ]
  },
  {
   "cell_type": "code",
   "execution_count": 7,
   "id": "28eee262-80f9-4115-b220-07f6c92342e0",
   "metadata": {},
   "outputs": [
    {
     "name": "stdout",
     "output_type": "stream",
     "text": [
      "+---------+-------+-------------+-----------+------------------+\n",
      "|vendor_id|trip_id|trip_distance|fare_amount|store_and_fwd_flag|\n",
      "+---------+-------+-------------+-----------+------------------+\n",
      "+---------+-------+-------------+-----------+------------------+\n",
      "\n"
     ]
    }
   ],
   "source": [
    "spark.table(\"demo.nyc.taxis\").show()"
   ]
  },
  {
   "cell_type": "code",
   "execution_count": 10,
   "id": "344e5c73-a54e-4b30-8b7f-39180c31f2ce",
   "metadata": {},
   "outputs": [],
   "source": [
    "schema = spark.table(\"demo.nyc.taxis\").schema\n",
    "data = [\n",
    "    (1, 1000371, 1.8, 15.32, \"N\"),\n",
    "    (2, 1000372, 2.5, 22.15, \"N\"),\n",
    "    (2, 1000373, 0.9, 9.01, \"N\"),\n",
    "    (1, 1000374, 8.4, 42.13, \"Y\")\n",
    "  ]\n",
    "df = spark.createDataFrame(data, schema)\n",
    "df.writeTo(\"demo.nyc.taxis\").append()"
   ]
  },
  {
   "cell_type": "code",
   "execution_count": 11,
   "id": "a5a07ebd-8268-45db-ae47-97a34fca58a5",
   "metadata": {},
   "outputs": [
    {
     "name": "stdout",
     "output_type": "stream",
     "text": [
      "+---------+-------+-------------+-----------+------------------+\n",
      "|vendor_id|trip_id|trip_distance|fare_amount|store_and_fwd_flag|\n",
      "+---------+-------+-------------+-----------+------------------+\n",
      "|        1|1000371|          1.8|      15.32|                 N|\n",
      "|        2|1000372|          2.5|      22.15|                 N|\n",
      "|        2|1000373|          0.9|       9.01|                 N|\n",
      "|        1|1000374|          8.4|      42.13|                 Y|\n",
      "|        1|1000371|          1.8|      15.32|                 N|\n",
      "|        2|1000372|          2.5|      22.15|                 N|\n",
      "|        2|1000373|          0.9|       9.01|                 N|\n",
      "|        1|1000374|          8.4|      42.13|                 Y|\n",
      "+---------+-------+-------------+-----------+------------------+\n",
      "\n"
     ]
    }
   ],
   "source": [
    "spark.table(\"demo.nyc.taxis\").show()"
   ]
  },
  {
   "cell_type": "code",
   "execution_count": 2,
   "id": "1f426c67-afa5-4f41-82cd-f9ac3688dbcc",
   "metadata": {},
   "outputs": [
    {
     "name": "stderr",
     "output_type": "stream",
     "text": [
      "                                                                                \r"
     ]
    }
   ],
   "source": [
    "df = spark.read.option(\"header\", \"true\").option(\"inferSchema\", \"true\").csv(\"data/sales_data_sample.csv\")"
   ]
  },
  {
   "cell_type": "code",
   "execution_count": 3,
   "id": "1cdbc124-22a3-4a78-b02f-4edc97852fa3",
   "metadata": {},
   "outputs": [
    {
     "name": "stdout",
     "output_type": "stream",
     "text": [
      "DataFrame[ORDERNUMBER: int, QUANTITYORDERED: int, PRICEEACH: double, ORDERLINENUMBER: int, SALES: double, ORDERDATE: string, STATUS: string, QTR_ID: int, MONTH_ID: int, YEAR_ID: int, PRODUCTLINE: string, MSRP: int, PRODUCTCODE: string, CUSTOMERNAME: string, PHONE: string, ADDRESSLINE1: string, ADDRESSLINE2: string, CITY: string, STATE: string, POSTALCODE: string, COUNTRY: string, TERRITORY: string, CONTACTLASTNAME: string, CONTACTFIRSTNAME: string, DEALSIZE: string]\n"
     ]
    }
   ],
   "source": [
    "print(df)"
   ]
  },
  {
   "cell_type": "code",
   "execution_count": 13,
   "id": "705b0d87-89f1-46ef-9b31-18debef169a9",
   "metadata": {},
   "outputs": [
    {
     "name": "stdout",
     "output_type": "stream",
     "text": [
      "+-----------+---------------+---------+---------------+-------+--------------+-------+------+--------+-------+-----------+----+-----------+-----------------+----------+--------------------+------------+----+-----+----------+-------+---------+---------------+----------------+--------+\n",
      "|ORDERNUMBER|QUANTITYORDERED|PRICEEACH|ORDERLINENUMBER|  SALES|     ORDERDATE| STATUS|QTR_ID|MONTH_ID|YEAR_ID|PRODUCTLINE|MSRP|PRODUCTCODE|     CUSTOMERNAME|     PHONE|        ADDRESSLINE1|ADDRESSLINE2|CITY|STATE|POSTALCODE|COUNTRY|TERRITORY|CONTACTLASTNAME|CONTACTFIRSTNAME|DEALSIZE|\n",
      "+-----------+---------------+---------+---------------+-------+--------------+-------+------+--------+-------+-----------+----+-----------+-----------------+----------+--------------------+------------+----+-----+----------+-------+---------+---------------+----------------+--------+\n",
      "|      10107|             30|     95.7|              2| 2871.0|2/24/2003 0:00|Shipped|     1|       2|   2003|Motorcycles|  95|   S10_1678|Land of Toys Inc.|2125557818|897 Long Airport ...|        NULL| NYC|   NY|     10022|    USA|       NA|             Yu|            Kwai|   Small|\n",
      "|      10107|             39|    99.91|              5|3896.49|2/24/2003 0:00|Shipped|     1|       2|   2003|Motorcycles| 118|   S10_2016|Land of Toys Inc.|2125557818|897 Long Airport ...|        NULL| NYC|   NY|     10022|    USA|       NA|             Yu|            Kwai|  Medium|\n",
      "|      10107|             27|    100.0|              4|6065.55|2/24/2003 0:00|Shipped|     1|       2|   2003|Motorcycles| 193|   S10_4698|Land of Toys Inc.|2125557818|897 Long Airport ...|        NULL| NYC|   NY|     10022|    USA|       NA|             Yu|            Kwai|  Medium|\n",
      "|      10107|             21|    100.0|              1| 3036.6|2/24/2003 0:00|Shipped|     1|       2|   2003|Motorcycles| 150|   S12_2823|Land of Toys Inc.|2125557818|897 Long Airport ...|        NULL| NYC|   NY|     10022|    USA|       NA|             Yu|            Kwai|  Medium|\n",
      "|      10107|             29|    70.87|              6|2055.23|2/24/2003 0:00|Shipped|     1|       2|   2003|Motorcycles|  60|   S18_2625|Land of Toys Inc.|2125557818|897 Long Airport ...|        NULL| NYC|   NY|     10022|    USA|       NA|             Yu|            Kwai|   Small|\n",
      "|      10107|             25|    100.0|              3|2845.75|2/24/2003 0:00|Shipped|     1|       2|   2003|Motorcycles| 112|   S24_1578|Land of Toys Inc.|2125557818|897 Long Airport ...|        NULL| NYC|   NY|     10022|    USA|       NA|             Yu|            Kwai|   Small|\n",
      "|      10107|             38|    83.03|              7|3155.14|2/24/2003 0:00|Shipped|     1|       2|   2003|Motorcycles|  76|   S24_2000|Land of Toys Inc.|2125557818|897 Long Airport ...|        NULL| NYC|   NY|     10022|    USA|       NA|             Yu|            Kwai|  Medium|\n",
      "|      10107|             20|     92.9|              8| 1858.0|2/24/2003 0:00|Shipped|     1|       2|   2003|Motorcycles|  99|   S32_1374|Land of Toys Inc.|2125557818|897 Long Airport ...|        NULL| NYC|   NY|     10022|    USA|       NA|             Yu|            Kwai|   Small|\n",
      "+-----------+---------------+---------+---------------+-------+--------------+-------+------+--------+-------+-----------+----+-----------+-----------------+----------+--------------------+------------+----+-----+----------+-------+---------+---------------+----------------+--------+\n",
      "\n"
     ]
    }
   ],
   "source": [
    "df.filter(df.ORDERNUMBER == 10107).show()"
   ]
  },
  {
   "cell_type": "code",
   "execution_count": 6,
   "id": "439feed6-2408-4da2-a731-104069c62e2b",
   "metadata": {},
   "outputs": [
    {
     "data": {
      "text/plain": [
       "DataFrame[ORDERNUMBER: int, QUANTITYORDERED: int, PRICEEACH: double, ORDERLINENUMBER: int, SALES: double, ORDERDATE: string, STATUS: string, QTR_ID: int, MONTH_ID: int, YEAR_ID: int, PRODUCTLINE: string, MSRP: int, PRODUCTCODE: string, CUSTOMERNAME: string, PHONE: string, ADDRESSLINE1: string, ADDRESSLINE2: string, CITY: string, STATE: string, POSTALCODE: string, COUNTRY: string, TERRITORY: string, CONTACTLASTNAME: string, CONTACTFIRSTNAME: string, DEALSIZE: string]"
      ]
     },
     "metadata": {},
     "output_type": "display_data"
    }
   ],
   "source": [
    "display(df)"
   ]
  },
  {
   "cell_type": "code",
   "execution_count": 12,
   "id": "78698b04-5eef-431b-acfe-2b64a99c94de",
   "metadata": {},
   "outputs": [
    {
     "name": "stdout",
     "output_type": "stream",
     "text": [
      "Row(ORDERNUMBER=10107, QUANTITYORDERED=30, PRICEEACH=95.7, ORDERLINENUMBER=2, SALES=2871.0, ORDERDATE='2/24/2003 0:00', STATUS='Shipped', QTR_ID=1, MONTH_ID=2, YEAR_ID=2003, PRODUCTLINE='Motorcycles', MSRP=95, PRODUCTCODE='S10_1678', CUSTOMERNAME='Land of Toys Inc.', PHONE='2125557818', ADDRESSLINE1='897 Long Airport Avenue', ADDRESSLINE2=None, CITY='NYC', STATE='NY', POSTALCODE='10022', COUNTRY='USA', TERRITORY='NA', CONTACTLASTNAME='Yu', CONTACTFIRSTNAME='Kwai', DEALSIZE='Small')\n",
      "Row(ORDERNUMBER=10107, QUANTITYORDERED=39, PRICEEACH=99.91, ORDERLINENUMBER=5, SALES=3896.49, ORDERDATE='2/24/2003 0:00', STATUS='Shipped', QTR_ID=1, MONTH_ID=2, YEAR_ID=2003, PRODUCTLINE='Motorcycles', MSRP=118, PRODUCTCODE='S10_2016', CUSTOMERNAME='Land of Toys Inc.', PHONE='2125557818', ADDRESSLINE1='897 Long Airport Avenue', ADDRESSLINE2=None, CITY='NYC', STATE='NY', POSTALCODE='10022', COUNTRY='USA', TERRITORY='NA', CONTACTLASTNAME='Yu', CONTACTFIRSTNAME='Kwai', DEALSIZE='Medium')\n",
      "Row(ORDERNUMBER=10107, QUANTITYORDERED=27, PRICEEACH=100.0, ORDERLINENUMBER=4, SALES=6065.55, ORDERDATE='2/24/2003 0:00', STATUS='Shipped', QTR_ID=1, MONTH_ID=2, YEAR_ID=2003, PRODUCTLINE='Motorcycles', MSRP=193, PRODUCTCODE='S10_4698', CUSTOMERNAME='Land of Toys Inc.', PHONE='2125557818', ADDRESSLINE1='897 Long Airport Avenue', ADDRESSLINE2=None, CITY='NYC', STATE='NY', POSTALCODE='10022', COUNTRY='USA', TERRITORY='NA', CONTACTLASTNAME='Yu', CONTACTFIRSTNAME='Kwai', DEALSIZE='Medium')\n",
      "Row(ORDERNUMBER=10107, QUANTITYORDERED=21, PRICEEACH=100.0, ORDERLINENUMBER=1, SALES=3036.6, ORDERDATE='2/24/2003 0:00', STATUS='Shipped', QTR_ID=1, MONTH_ID=2, YEAR_ID=2003, PRODUCTLINE='Motorcycles', MSRP=150, PRODUCTCODE='S12_2823', CUSTOMERNAME='Land of Toys Inc.', PHONE='2125557818', ADDRESSLINE1='897 Long Airport Avenue', ADDRESSLINE2=None, CITY='NYC', STATE='NY', POSTALCODE='10022', COUNTRY='USA', TERRITORY='NA', CONTACTLASTNAME='Yu', CONTACTFIRSTNAME='Kwai', DEALSIZE='Medium')\n",
      "Row(ORDERNUMBER=10107, QUANTITYORDERED=29, PRICEEACH=70.87, ORDERLINENUMBER=6, SALES=2055.23, ORDERDATE='2/24/2003 0:00', STATUS='Shipped', QTR_ID=1, MONTH_ID=2, YEAR_ID=2003, PRODUCTLINE='Motorcycles', MSRP=60, PRODUCTCODE='S18_2625', CUSTOMERNAME='Land of Toys Inc.', PHONE='2125557818', ADDRESSLINE1='897 Long Airport Avenue', ADDRESSLINE2=None, CITY='NYC', STATE='NY', POSTALCODE='10022', COUNTRY='USA', TERRITORY='NA', CONTACTLASTNAME='Yu', CONTACTFIRSTNAME='Kwai', DEALSIZE='Small')\n",
      "Row(ORDERNUMBER=10107, QUANTITYORDERED=25, PRICEEACH=100.0, ORDERLINENUMBER=3, SALES=2845.75, ORDERDATE='2/24/2003 0:00', STATUS='Shipped', QTR_ID=1, MONTH_ID=2, YEAR_ID=2003, PRODUCTLINE='Motorcycles', MSRP=112, PRODUCTCODE='S24_1578', CUSTOMERNAME='Land of Toys Inc.', PHONE='2125557818', ADDRESSLINE1='897 Long Airport Avenue', ADDRESSLINE2=None, CITY='NYC', STATE='NY', POSTALCODE='10022', COUNTRY='USA', TERRITORY='NA', CONTACTLASTNAME='Yu', CONTACTFIRSTNAME='Kwai', DEALSIZE='Small')\n",
      "Row(ORDERNUMBER=10107, QUANTITYORDERED=38, PRICEEACH=83.03, ORDERLINENUMBER=7, SALES=3155.14, ORDERDATE='2/24/2003 0:00', STATUS='Shipped', QTR_ID=1, MONTH_ID=2, YEAR_ID=2003, PRODUCTLINE='Motorcycles', MSRP=76, PRODUCTCODE='S24_2000', CUSTOMERNAME='Land of Toys Inc.', PHONE='2125557818', ADDRESSLINE1='897 Long Airport Avenue', ADDRESSLINE2=None, CITY='NYC', STATE='NY', POSTALCODE='10022', COUNTRY='USA', TERRITORY='NA', CONTACTLASTNAME='Yu', CONTACTFIRSTNAME='Kwai', DEALSIZE='Medium')\n",
      "Row(ORDERNUMBER=10107, QUANTITYORDERED=20, PRICEEACH=92.9, ORDERLINENUMBER=8, SALES=1858.0, ORDERDATE='2/24/2003 0:00', STATUS='Shipped', QTR_ID=1, MONTH_ID=2, YEAR_ID=2003, PRODUCTLINE='Motorcycles', MSRP=99, PRODUCTCODE='S32_1374', CUSTOMERNAME='Land of Toys Inc.', PHONE='2125557818', ADDRESSLINE1='897 Long Airport Avenue', ADDRESSLINE2=None, CITY='NYC', STATE='NY', POSTALCODE='10022', COUNTRY='USA', TERRITORY='NA', CONTACTLASTNAME='Yu', CONTACTFIRSTNAME='Kwai', DEALSIZE='Small')\n"
     ]
    }
   ],
   "source": [
    "filtered_data = df.filter(df.ORDERNUMBER == 10107).collect()\n",
    "for row in filtered_data:\n",
    "    print(row)\n"
   ]
  },
  {
   "cell_type": "code",
   "execution_count": 24,
   "id": "3efadc26-1b85-4b0e-ad4c-7b648b7c4a7f",
   "metadata": {},
   "outputs": [
    {
     "ename": "ParseException",
     "evalue": "\n[PARSE_SYNTAX_ERROR] Syntax error at or near 'CREATE': extra input 'CREATE'.(line 9, pos 0)\n\n== SQL ==\n-- Manufacturer table\nCREATE TABLE IF NOT EXISTS iceberg_db.Manufacturer (\n    ManufacturerID INT,\n    Name STRING\n)\nUSING iceberg;\n\n-- Warehouse table\nCREATE TABLE IF NOT EXISTS iceberg_db.Warehouse (\n^^^\n    WarehouseID INT,\n    Location STRING\n)\nUSING iceberg;\n\n-- StoreDeliveryLocation table\nCREATE TABLE IF NOT EXISTS iceberg_db.StoreDeliveryLocation (\n    LocationID INT,\n    AddressLine1 STRING,\n    AddressLine2 STRING,\n    City STRING,\n    State STRING,\n    PostalCode STRING,\n    Country STRING,\n    Territory STRING\n)\nUSING iceberg;\n\n-- Product table\nCREATE TABLE IF NOT EXISTS iceberg_db.Product (\n    ProductID INT,\n    ProductCode STRING,\n    ProductLine STRING,\n    MSRP DECIMAL(10,2),\n    ManufacturerID INT\n)\nUSING iceberg;\n\n-- Customer table\nCREATE TABLE IF NOT EXISTS iceberg_db.Customer (\n    CustomerID INT,\n    CustomerName STRING,\n    Phone STRING,\n    ContactLastName STRING,\n    ContactFirstName STRING\n)\nUSING iceberg;\n\n-- Orders table\nCREATE TABLE IF NOT EXISTS iceberg_db.Orders (\n    OrderNumber INT,\n    OrderDate TIMESTAMP,\n    Status STRING,\n    QuarterID INT,\n    MonthID INT,\n    YearID INT,\n    DealSize STRING,\n    CustomerID INT,\n    ProductID INT,\n    StoreDeliveryLocationID INT,\n    WarehouseID INT,\n    QuantityOrdered INT,\n    PriceEach DECIMAL(10,2),\n    Sales DECIMAL(15,2)\n)\nUSING iceberg;\n",
     "output_type": "error",
     "traceback": [
      "\u001b[0;31m---------------------------------------------------------------------------\u001b[0m",
      "\u001b[0;31mParseException\u001b[0m                            Traceback (most recent call last)",
      "Cell \u001b[0;32mIn[24], line 6\u001b[0m\n\u001b[1;32m      3\u001b[0m \u001b[38;5;28;01mwith\u001b[39;00m \u001b[38;5;28mopen\u001b[39m(sql_file_path, \u001b[38;5;124m\"\u001b[39m\u001b[38;5;124mr\u001b[39m\u001b[38;5;124m\"\u001b[39m) \u001b[38;5;28;01mas\u001b[39;00m file:\n\u001b[1;32m      4\u001b[0m     sql_script \u001b[38;5;241m=\u001b[39m file\u001b[38;5;241m.\u001b[39mread()\n\u001b[0;32m----> 6\u001b[0m \u001b[43mspark\u001b[49m\u001b[38;5;241;43m.\u001b[39;49m\u001b[43msql\u001b[49m\u001b[43m(\u001b[49m\u001b[43msql_script\u001b[49m\u001b[43m)\u001b[49m\n",
      "File \u001b[0;32m/opt/spark/python/pyspark/sql/session.py:1631\u001b[0m, in \u001b[0;36mSparkSession.sql\u001b[0;34m(self, sqlQuery, args, **kwargs)\u001b[0m\n\u001b[1;32m   1627\u001b[0m         \u001b[38;5;28;01massert\u001b[39;00m \u001b[38;5;28mself\u001b[39m\u001b[38;5;241m.\u001b[39m_jvm \u001b[38;5;129;01mis\u001b[39;00m \u001b[38;5;129;01mnot\u001b[39;00m \u001b[38;5;28;01mNone\u001b[39;00m\n\u001b[1;32m   1628\u001b[0m         litArgs \u001b[38;5;241m=\u001b[39m \u001b[38;5;28mself\u001b[39m\u001b[38;5;241m.\u001b[39m_jvm\u001b[38;5;241m.\u001b[39mPythonUtils\u001b[38;5;241m.\u001b[39mtoArray(\n\u001b[1;32m   1629\u001b[0m             [_to_java_column(lit(v)) \u001b[38;5;28;01mfor\u001b[39;00m v \u001b[38;5;129;01min\u001b[39;00m (args \u001b[38;5;129;01mor\u001b[39;00m [])]\n\u001b[1;32m   1630\u001b[0m         )\n\u001b[0;32m-> 1631\u001b[0m     \u001b[38;5;28;01mreturn\u001b[39;00m DataFrame(\u001b[38;5;28;43mself\u001b[39;49m\u001b[38;5;241;43m.\u001b[39;49m\u001b[43m_jsparkSession\u001b[49m\u001b[38;5;241;43m.\u001b[39;49m\u001b[43msql\u001b[49m\u001b[43m(\u001b[49m\u001b[43msqlQuery\u001b[49m\u001b[43m,\u001b[49m\u001b[43m \u001b[49m\u001b[43mlitArgs\u001b[49m\u001b[43m)\u001b[49m, \u001b[38;5;28mself\u001b[39m)\n\u001b[1;32m   1632\u001b[0m \u001b[38;5;28;01mfinally\u001b[39;00m:\n\u001b[1;32m   1633\u001b[0m     \u001b[38;5;28;01mif\u001b[39;00m \u001b[38;5;28mlen\u001b[39m(kwargs) \u001b[38;5;241m>\u001b[39m \u001b[38;5;241m0\u001b[39m:\n",
      "File \u001b[0;32m/opt/spark/python/lib/py4j-0.10.9.7-src.zip/py4j/java_gateway.py:1322\u001b[0m, in \u001b[0;36mJavaMember.__call__\u001b[0;34m(self, *args)\u001b[0m\n\u001b[1;32m   1316\u001b[0m command \u001b[38;5;241m=\u001b[39m proto\u001b[38;5;241m.\u001b[39mCALL_COMMAND_NAME \u001b[38;5;241m+\u001b[39m\\\n\u001b[1;32m   1317\u001b[0m     \u001b[38;5;28mself\u001b[39m\u001b[38;5;241m.\u001b[39mcommand_header \u001b[38;5;241m+\u001b[39m\\\n\u001b[1;32m   1318\u001b[0m     args_command \u001b[38;5;241m+\u001b[39m\\\n\u001b[1;32m   1319\u001b[0m     proto\u001b[38;5;241m.\u001b[39mEND_COMMAND_PART\n\u001b[1;32m   1321\u001b[0m answer \u001b[38;5;241m=\u001b[39m \u001b[38;5;28mself\u001b[39m\u001b[38;5;241m.\u001b[39mgateway_client\u001b[38;5;241m.\u001b[39msend_command(command)\n\u001b[0;32m-> 1322\u001b[0m return_value \u001b[38;5;241m=\u001b[39m \u001b[43mget_return_value\u001b[49m\u001b[43m(\u001b[49m\n\u001b[1;32m   1323\u001b[0m \u001b[43m    \u001b[49m\u001b[43manswer\u001b[49m\u001b[43m,\u001b[49m\u001b[43m \u001b[49m\u001b[38;5;28;43mself\u001b[39;49m\u001b[38;5;241;43m.\u001b[39;49m\u001b[43mgateway_client\u001b[49m\u001b[43m,\u001b[49m\u001b[43m \u001b[49m\u001b[38;5;28;43mself\u001b[39;49m\u001b[38;5;241;43m.\u001b[39;49m\u001b[43mtarget_id\u001b[49m\u001b[43m,\u001b[49m\u001b[43m \u001b[49m\u001b[38;5;28;43mself\u001b[39;49m\u001b[38;5;241;43m.\u001b[39;49m\u001b[43mname\u001b[49m\u001b[43m)\u001b[49m\n\u001b[1;32m   1325\u001b[0m \u001b[38;5;28;01mfor\u001b[39;00m temp_arg \u001b[38;5;129;01min\u001b[39;00m temp_args:\n\u001b[1;32m   1326\u001b[0m     \u001b[38;5;28;01mif\u001b[39;00m \u001b[38;5;28mhasattr\u001b[39m(temp_arg, \u001b[38;5;124m\"\u001b[39m\u001b[38;5;124m_detach\u001b[39m\u001b[38;5;124m\"\u001b[39m):\n",
      "File \u001b[0;32m/opt/spark/python/pyspark/errors/exceptions/captured.py:185\u001b[0m, in \u001b[0;36mcapture_sql_exception.<locals>.deco\u001b[0;34m(*a, **kw)\u001b[0m\n\u001b[1;32m    181\u001b[0m converted \u001b[38;5;241m=\u001b[39m convert_exception(e\u001b[38;5;241m.\u001b[39mjava_exception)\n\u001b[1;32m    182\u001b[0m \u001b[38;5;28;01mif\u001b[39;00m \u001b[38;5;129;01mnot\u001b[39;00m \u001b[38;5;28misinstance\u001b[39m(converted, UnknownException):\n\u001b[1;32m    183\u001b[0m     \u001b[38;5;66;03m# Hide where the exception came from that shows a non-Pythonic\u001b[39;00m\n\u001b[1;32m    184\u001b[0m     \u001b[38;5;66;03m# JVM exception message.\u001b[39;00m\n\u001b[0;32m--> 185\u001b[0m     \u001b[38;5;28;01mraise\u001b[39;00m converted \u001b[38;5;28;01mfrom\u001b[39;00m \u001b[38;5;28;01mNone\u001b[39;00m\n\u001b[1;32m    186\u001b[0m \u001b[38;5;28;01melse\u001b[39;00m:\n\u001b[1;32m    187\u001b[0m     \u001b[38;5;28;01mraise\u001b[39;00m\n",
      "\u001b[0;31mParseException\u001b[0m: \n[PARSE_SYNTAX_ERROR] Syntax error at or near 'CREATE': extra input 'CREATE'.(line 9, pos 0)\n\n== SQL ==\n-- Manufacturer table\nCREATE TABLE IF NOT EXISTS iceberg_db.Manufacturer (\n    ManufacturerID INT,\n    Name STRING\n)\nUSING iceberg;\n\n-- Warehouse table\nCREATE TABLE IF NOT EXISTS iceberg_db.Warehouse (\n^^^\n    WarehouseID INT,\n    Location STRING\n)\nUSING iceberg;\n\n-- StoreDeliveryLocation table\nCREATE TABLE IF NOT EXISTS iceberg_db.StoreDeliveryLocation (\n    LocationID INT,\n    AddressLine1 STRING,\n    AddressLine2 STRING,\n    City STRING,\n    State STRING,\n    PostalCode STRING,\n    Country STRING,\n    Territory STRING\n)\nUSING iceberg;\n\n-- Product table\nCREATE TABLE IF NOT EXISTS iceberg_db.Product (\n    ProductID INT,\n    ProductCode STRING,\n    ProductLine STRING,\n    MSRP DECIMAL(10,2),\n    ManufacturerID INT\n)\nUSING iceberg;\n\n-- Customer table\nCREATE TABLE IF NOT EXISTS iceberg_db.Customer (\n    CustomerID INT,\n    CustomerName STRING,\n    Phone STRING,\n    ContactLastName STRING,\n    ContactFirstName STRING\n)\nUSING iceberg;\n\n-- Orders table\nCREATE TABLE IF NOT EXISTS iceberg_db.Orders (\n    OrderNumber INT,\n    OrderDate TIMESTAMP,\n    Status STRING,\n    QuarterID INT,\n    MonthID INT,\n    YearID INT,\n    DealSize STRING,\n    CustomerID INT,\n    ProductID INT,\n    StoreDeliveryLocationID INT,\n    WarehouseID INT,\n    QuantityOrdered INT,\n    PriceEach DECIMAL(10,2),\n    Sales DECIMAL(15,2)\n)\nUSING iceberg;\n"
     ]
    }
   ],
   "source": [
    "sql_file_path = \"sql_scripts/create_tables.sql\"\n",
    "\n",
    "with open(sql_file_path, \"r\") as file:\n",
    "    sql_script = file.read()\n",
    "\n",
    "spark.sql(sql_script)"
   ]
  },
  {
   "cell_type": "code",
   "execution_count": 23,
   "id": "da37d244-cb77-4e89-a1db-a8c3b94efac0",
   "metadata": {},
   "outputs": [
    {
     "name": "stdout",
     "output_type": "stream",
     "text": [
      "+--------------+----+\n",
      "|ManufacturerID|Name|\n",
      "+--------------+----+\n",
      "+--------------+----+\n",
      "\n"
     ]
    }
   ],
   "source": [
    "df = spark.sql(\"SELECT * FROM iceberg_db.Manufacturer\")\n",
    "\n",
    "# Show the DataFrame contents\n",
    "df.show()"
   ]
  },
  {
   "cell_type": "code",
   "execution_count": 38,
   "id": "3d665ab5-fb80-47f3-82e8-4b7590bc734a",
   "metadata": {},
   "outputs": [
    {
     "name": "stdout",
     "output_type": "stream",
     "text": [
      "0\n",
      "1\n",
      "2\n",
      "3\n",
      "4\n",
      "5\n"
     ]
    }
   ],
   "source": [
    "sql_script = \"\"\"CREATE TABLE IF NOT EXISTS iceberg_db.Manufacturer (\n",
    "    ManufacturerID INT,\n",
    "    Name STRING\n",
    ")\n",
    "USING iceberg;\n",
    "\n",
    "CREATE TABLE IF NOT EXISTS iceberg_db.Warehouse (\n",
    "    WarehouseID INT,\n",
    "    Location STRING\n",
    ")\n",
    "USING iceberg;\n",
    "\n",
    "CREATE TABLE IF NOT EXISTS iceberg_db.StoreDeliveryLocation (\n",
    "    LocationID INT,\n",
    "    AddressLine1 STRING,\n",
    "    AddressLine2 STRING,\n",
    "    City STRING,\n",
    "    State STRING,\n",
    "    PostalCode STRING,\n",
    "    Country STRING,\n",
    "    Territory STRING\n",
    ")\n",
    "USING iceberg;\n",
    "\n",
    "CREATE TABLE IF NOT EXISTS iceberg_db.Product (\n",
    "    ProductID INT,\n",
    "    ProductCode STRING,\n",
    "    ProductLine STRING,\n",
    "    MSRP DECIMAL(10,2),\n",
    "    ManufacturerID INT\n",
    ")\n",
    "USING iceberg;\n",
    "\n",
    "CREATE TABLE IF NOT EXISTS iceberg_db.Customer (\n",
    "    CustomerID INT,\n",
    "    CustomerName STRING,\n",
    "    Phone STRING,\n",
    "    ContactLastName STRING,\n",
    "    ContactFirstName STRING\n",
    ")\n",
    "USING iceberg;\n",
    "\n",
    "CREATE TABLE IF NOT EXISTS iceberg_db.Orders (\n",
    "    OrderNumber INT,\n",
    "    OrderDate TIMESTAMP,\n",
    "    Status STRING,\n",
    "    QuarterID INT,\n",
    "    MonthID INT,\n",
    "    YearID INT,\n",
    "    DealSize STRING,\n",
    "    CustomerID INT,\n",
    "    ProductID INT,\n",
    "    StoreDeliveryLocationID INT,\n",
    "    WarehouseID INT,\n",
    "    QuantityOrdered INT,\n",
    "    PriceEach DECIMAL(10,2),\n",
    "    Sales DECIMAL(15,2)\n",
    ")\n",
    "USING iceberg;\n",
    "\"\"\"\n",
    "\n",
    "    \n",
    "for i in range(len(sql_script.split(\";\"))-1):\n",
    "    print(i)\n",
    "    spark.sql(sql_script.split(\";\")[i].replace(\"\\n\",\"\").strip())\n"
   ]
  },
  {
   "cell_type": "code",
   "execution_count": 39,
   "id": "d7d7fa16-1ea8-4d33-a730-d3dfa22b6e26",
   "metadata": {},
   "outputs": [
    {
     "name": "stdout",
     "output_type": "stream",
     "text": [
      "+----------+--------------------+-----------+\n",
      "| namespace|           tableName|isTemporary|\n",
      "+----------+--------------------+-----------+\n",
      "|iceberg_db|            Customer|      false|\n",
      "|iceberg_db|        Manufacturer|      false|\n",
      "|iceberg_db|              Orders|      false|\n",
      "|iceberg_db|             Product|      false|\n",
      "|iceberg_db|StoreDeliveryLoca...|      false|\n",
      "|iceberg_db|           Warehouse|      false|\n",
      "+----------+--------------------+-----------+\n",
      "\n"
     ]
    }
   ],
   "source": [
    "spark.sql(\"SHOW TABLES IN iceberg_db\").show()\n"
   ]
  },
  {
   "cell_type": "code",
   "execution_count": null,
   "id": "325c6990-4cc4-4163-8cd8-997798607bba",
   "metadata": {},
   "outputs": [],
   "source": []
  }
 ],
 "metadata": {
  "kernelspec": {
   "display_name": "Python 3 (ipykernel)",
   "language": "python",
   "name": "python3"
  },
  "language_info": {
   "codemirror_mode": {
    "name": "ipython",
    "version": 3
   },
   "file_extension": ".py",
   "mimetype": "text/x-python",
   "name": "python",
   "nbconvert_exporter": "python",
   "pygments_lexer": "ipython3",
   "version": "3.9.18"
  }
 },
 "nbformat": 4,
 "nbformat_minor": 5
}
