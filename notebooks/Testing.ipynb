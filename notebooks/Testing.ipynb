{
 "cells": [
  {
   "cell_type": "code",
   "execution_count": 3,
   "id": "054454f4-9c3d-4fcc-834b-4dcb3304b05c",
   "metadata": {},
   "outputs": [],
   "source": [
    "from pyspark.sql.types import DoubleType, FloatType, LongType, StructType,StructField, StringType\n",
    "schema = StructType([\n",
    "  StructField(\"vendor_id\", LongType(), True),\n",
    "  StructField(\"trip_id\", LongType(), True),\n",
    "  StructField(\"trip_distance\", FloatType(), True),\n",
    "  StructField(\"fare_amount\", DoubleType(), True),\n",
    "  StructField(\"store_and_fwd_flag\", StringType(), True)\n",
    "])\n",
    "\n",
    "df = spark.createDataFrame([], schema)\n",
    "df.writeTo(\"demo.nyc.taxis\").createOrReplace()"
   ]
  },
  {
   "cell_type": "code",
   "execution_count": 7,
   "id": "28eee262-80f9-4115-b220-07f6c92342e0",
   "metadata": {},
   "outputs": [
    {
     "name": "stdout",
     "output_type": "stream",
     "text": [
      "+---------+-------+-------------+-----------+------------------+\n",
      "|vendor_id|trip_id|trip_distance|fare_amount|store_and_fwd_flag|\n",
      "+---------+-------+-------------+-----------+------------------+\n",
      "+---------+-------+-------------+-----------+------------------+\n",
      "\n"
     ]
    }
   ],
   "source": [
    "spark.table(\"demo.nyc.taxis\").show()"
   ]
  },
  {
   "cell_type": "code",
   "execution_count": 10,
   "id": "344e5c73-a54e-4b30-8b7f-39180c31f2ce",
   "metadata": {},
   "outputs": [],
   "source": [
    "schema = spark.table(\"demo.nyc.taxis\").schema\n",
    "data = [\n",
    "    (1, 1000371, 1.8, 15.32, \"N\"),\n",
    "    (2, 1000372, 2.5, 22.15, \"N\"),\n",
    "    (2, 1000373, 0.9, 9.01, \"N\"),\n",
    "    (1, 1000374, 8.4, 42.13, \"Y\")\n",
    "  ]\n",
    "df = spark.createDataFrame(data, schema)\n",
    "df.writeTo(\"demo.nyc.taxis\").append()"
   ]
  },
  {
   "cell_type": "code",
   "execution_count": 11,
   "id": "a5a07ebd-8268-45db-ae47-97a34fca58a5",
   "metadata": {},
   "outputs": [
    {
     "name": "stdout",
     "output_type": "stream",
     "text": [
      "+---------+-------+-------------+-----------+------------------+\n",
      "|vendor_id|trip_id|trip_distance|fare_amount|store_and_fwd_flag|\n",
      "+---------+-------+-------------+-----------+------------------+\n",
      "|        1|1000371|          1.8|      15.32|                 N|\n",
      "|        2|1000372|          2.5|      22.15|                 N|\n",
      "|        2|1000373|          0.9|       9.01|                 N|\n",
      "|        1|1000374|          8.4|      42.13|                 Y|\n",
      "|        1|1000371|          1.8|      15.32|                 N|\n",
      "|        2|1000372|          2.5|      22.15|                 N|\n",
      "|        2|1000373|          0.9|       9.01|                 N|\n",
      "|        1|1000374|          8.4|      42.13|                 Y|\n",
      "+---------+-------+-------------+-----------+------------------+\n",
      "\n"
     ]
    }
   ],
   "source": [
    "spark.table(\"demo.nyc.taxis\").show()"
   ]
  },
  {
   "cell_type": "code",
   "execution_count": null,
   "id": "1f426c67-afa5-4f41-82cd-f9ac3688dbcc",
   "metadata": {},
   "outputs": [],
   "source": []
  }
 ],
 "metadata": {
  "kernelspec": {
   "display_name": "Python 3 (ipykernel)",
   "language": "python",
   "name": "python3"
  },
  "language_info": {
   "codemirror_mode": {
    "name": "ipython",
    "version": 3
   },
   "file_extension": ".py",
   "mimetype": "text/x-python",
   "name": "python",
   "nbconvert_exporter": "python",
   "pygments_lexer": "ipython3",
   "version": "3.9.18"
  }
 },
 "nbformat": 4,
 "nbformat_minor": 5
}
