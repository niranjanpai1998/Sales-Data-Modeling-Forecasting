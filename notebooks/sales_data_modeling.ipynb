{
 "cells": [
  {
   "cell_type": "code",
   "execution_count": 1,
   "id": "1549bfce-93f4-4530-97b2-724495010bf3",
   "metadata": {},
   "outputs": [
    {
     "name": "stderr",
     "output_type": "stream",
     "text": [
      "                                                                                \r"
     ]
    }
   ],
   "source": [
    "df = spark.read.option(\"header\", \"true\").option(\"inferSchema\", \"true\").csv(\"data/sales_data_sample.csv\")"
   ]
  },
  {
   "cell_type": "code",
   "execution_count": 2,
   "id": "59515a5e-b2f2-4554-9487-74b12ff538d0",
   "metadata": {},
   "outputs": [
    {
     "name": "stdout",
     "output_type": "stream",
     "text": [
      "DataFrame[ORDERNUMBER: int, QUANTITYORDERED: int, PRICEEACH: double, ORDERLINENUMBER: int, SALES: double, ORDERDATE: string, STATUS: string, QTR_ID: int, MONTH_ID: int, YEAR_ID: int, PRODUCTLINE: string, MSRP: int, PRODUCTCODE: string, CUSTOMERNAME: string, PHONE: string, ADDRESSLINE1: string, ADDRESSLINE2: string, CITY: string, STATE: string, POSTALCODE: string, COUNTRY: string, TERRITORY: string, CONTACTLASTNAME: string, CONTACTFIRSTNAME: string, DEALSIZE: string]\n"
     ]
    }
   ],
   "source": [
    "print(df)"
   ]
  },
  {
   "cell_type": "code",
   "execution_count": 3,
   "id": "c78c1ab7-f9b4-4c32-ba5c-96e80c060d23",
   "metadata": {},
   "outputs": [
    {
     "name": "stdout",
     "output_type": "stream",
     "text": [
      "+-----------+---------------+---------+---------------+-------+--------------+-------+------+--------+-------+-----------+----+-----------+-----------------+----------+--------------------+------------+----+-----+----------+-------+---------+---------------+----------------+--------+\n",
      "|ORDERNUMBER|QUANTITYORDERED|PRICEEACH|ORDERLINENUMBER|  SALES|     ORDERDATE| STATUS|QTR_ID|MONTH_ID|YEAR_ID|PRODUCTLINE|MSRP|PRODUCTCODE|     CUSTOMERNAME|     PHONE|        ADDRESSLINE1|ADDRESSLINE2|CITY|STATE|POSTALCODE|COUNTRY|TERRITORY|CONTACTLASTNAME|CONTACTFIRSTNAME|DEALSIZE|\n",
      "+-----------+---------------+---------+---------------+-------+--------------+-------+------+--------+-------+-----------+----+-----------+-----------------+----------+--------------------+------------+----+-----+----------+-------+---------+---------------+----------------+--------+\n",
      "|      10107|             30|     95.7|              2| 2871.0|2/24/2003 0:00|Shipped|     1|       2|   2003|Motorcycles|  95|   S10_1678|Land of Toys Inc.|2125557818|897 Long Airport ...|        NULL| NYC|   NY|     10022|    USA|       NA|             Yu|            Kwai|   Small|\n",
      "|      10107|             39|    99.91|              5|3896.49|2/24/2003 0:00|Shipped|     1|       2|   2003|Motorcycles| 118|   S10_2016|Land of Toys Inc.|2125557818|897 Long Airport ...|        NULL| NYC|   NY|     10022|    USA|       NA|             Yu|            Kwai|  Medium|\n",
      "|      10107|             27|    100.0|              4|6065.55|2/24/2003 0:00|Shipped|     1|       2|   2003|Motorcycles| 193|   S10_4698|Land of Toys Inc.|2125557818|897 Long Airport ...|        NULL| NYC|   NY|     10022|    USA|       NA|             Yu|            Kwai|  Medium|\n",
      "|      10107|             21|    100.0|              1| 3036.6|2/24/2003 0:00|Shipped|     1|       2|   2003|Motorcycles| 150|   S12_2823|Land of Toys Inc.|2125557818|897 Long Airport ...|        NULL| NYC|   NY|     10022|    USA|       NA|             Yu|            Kwai|  Medium|\n",
      "|      10107|             29|    70.87|              6|2055.23|2/24/2003 0:00|Shipped|     1|       2|   2003|Motorcycles|  60|   S18_2625|Land of Toys Inc.|2125557818|897 Long Airport ...|        NULL| NYC|   NY|     10022|    USA|       NA|             Yu|            Kwai|   Small|\n",
      "|      10107|             25|    100.0|              3|2845.75|2/24/2003 0:00|Shipped|     1|       2|   2003|Motorcycles| 112|   S24_1578|Land of Toys Inc.|2125557818|897 Long Airport ...|        NULL| NYC|   NY|     10022|    USA|       NA|             Yu|            Kwai|   Small|\n",
      "|      10107|             38|    83.03|              7|3155.14|2/24/2003 0:00|Shipped|     1|       2|   2003|Motorcycles|  76|   S24_2000|Land of Toys Inc.|2125557818|897 Long Airport ...|        NULL| NYC|   NY|     10022|    USA|       NA|             Yu|            Kwai|  Medium|\n",
      "|      10107|             20|     92.9|              8| 1858.0|2/24/2003 0:00|Shipped|     1|       2|   2003|Motorcycles|  99|   S32_1374|Land of Toys Inc.|2125557818|897 Long Airport ...|        NULL| NYC|   NY|     10022|    USA|       NA|             Yu|            Kwai|   Small|\n",
      "+-----------+---------------+---------+---------------+-------+--------------+-------+------+--------+-------+-----------+----+-----------+-----------------+----------+--------------------+------------+----+-----+----------+-------+---------+---------------+----------------+--------+\n",
      "\n"
     ]
    }
   ],
   "source": [
    "df.filter(df.ORDERNUMBER == 10107).show()"
   ]
  },
  {
   "cell_type": "code",
   "execution_count": 7,
   "id": "396bbee7-8c3e-4db8-9c3b-80cb4a20cd72",
   "metadata": {},
   "outputs": [],
   "source": [
    "sql_file_path = \"sql_scripts/create_tables.sql\"\n",
    "\n",
    "with open(sql_file_path, \"r\") as file:\n",
    "    sql_script = file.read()\n",
    "    \n",
    "for i in range(len(sql_script.split(\";\"))-1):\n",
    "    spark.sql(sql_script.split(\";\")[i].replace(\"\\n\",\"\").strip())"
   ]
  },
  {
   "cell_type": "code",
   "execution_count": 6,
   "id": "e03800c1-4f58-4eed-ab69-fea1932a05ab",
   "metadata": {},
   "outputs": [
    {
     "name": "stdout",
     "output_type": "stream",
     "text": [
      "+----------+--------------------+-----------+\n",
      "| namespace|           tableName|isTemporary|\n",
      "+----------+--------------------+-----------+\n",
      "|iceberg_db|            Customer|      false|\n",
      "|iceberg_db|        Manufacturer|      false|\n",
      "|iceberg_db|              Orders|      false|\n",
      "|iceberg_db|             Product|      false|\n",
      "|iceberg_db|StoreDeliveryLoca...|      false|\n",
      "|iceberg_db|           Warehouse|      false|\n",
      "+----------+--------------------+-----------+\n",
      "\n"
     ]
    }
   ],
   "source": [
    "spark.sql(\"SHOW TABLES IN iceberg_db\").show()"
   ]
  },
  {
   "cell_type": "code",
   "execution_count": null,
   "id": "1f3fbc14-2927-48d8-a18c-fbb215507e02",
   "metadata": {},
   "outputs": [],
   "source": []
  }
 ],
 "metadata": {
  "kernelspec": {
   "display_name": "Python 3 (ipykernel)",
   "language": "python",
   "name": "python3"
  },
  "language_info": {
   "codemirror_mode": {
    "name": "ipython",
    "version": 3
   },
   "file_extension": ".py",
   "mimetype": "text/x-python",
   "name": "python",
   "nbconvert_exporter": "python",
   "pygments_lexer": "ipython3",
   "version": "3.9.18"
  }
 },
 "nbformat": 4,
 "nbformat_minor": 5
}
